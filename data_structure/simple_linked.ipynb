{
 "cells": [
  {
   "cell_type": "code",
   "execution_count": 2,
   "id": "18f515cd-719f-4538-8f9e-389b665514e4",
   "metadata": {},
   "outputs": [],
   "source": [
    "# Singly-linked lists\n",
    "# In this linked list, each node in the list is connected only to the next node in the list.\n",
    "\n",
    "class Node:\n",
    "    def __init__(self, value):\n",
    "        self.value =  value\n",
    "        self.next = None"
   ]
  },
  {
   "cell_type": "code",
   "execution_count": 5,
   "id": "0e9b0e5d-ae88-4552-81b3-850f897be14c",
   "metadata": {},
   "outputs": [],
   "source": [
    "class LinkedList:\n",
    "    def __init__(self):\n",
    "        self.head = None\n",
    "        \n",
    "    def append(self, value):\n",
    "        if self.head is None:\n",
    "            self.head = Node(value)\n",
    "            return \n",
    "        \n",
    "        # Move to tail\n",
    "        node = self.head\n",
    "        while node.next:\n",
    "            node = node.next\n",
    "            \n",
    "        node.next = Node(value)\n",
    "        return\n",
    "        "
   ]
  },
  {
   "cell_type": "code",
   "execution_count": 6,
   "id": "55b0b1c8-b1b6-48ff-8b01-378f974c1e5b",
   "metadata": {},
   "outputs": [],
   "source": [
    "linked_list = LinkedList()\n",
    "linked_list.append(2)\n",
    "linked_list.append(1)\n",
    "linked_list.append(4)\n",
    "linked_list.append(3)"
   ]
  },
  {
   "cell_type": "code",
   "execution_count": 7,
   "id": "3fd35396-01eb-4057-b76c-a15cc29e993d",
   "metadata": {},
   "outputs": [
    {
     "name": "stdout",
     "output_type": "stream",
     "text": [
      "2\n",
      "1\n",
      "4\n",
      "3\n"
     ]
    }
   ],
   "source": [
    "node = linked_list.head\n",
    "while node:\n",
    "    print(node.value)\n",
    "    node = node.next"
   ]
  },
  {
   "cell_type": "code",
   "execution_count": null,
   "id": "e47da360-52ee-4036-bb94-948f18dbbb44",
   "metadata": {},
   "outputs": [],
   "source": []
  }
 ],
 "metadata": {
  "kernelspec": {
   "display_name": "Python 3 (ipykernel)",
   "language": "python",
   "name": "python3"
  },
  "language_info": {
   "codemirror_mode": {
    "name": "ipython",
    "version": 3
   },
   "file_extension": ".py",
   "mimetype": "text/x-python",
   "name": "python",
   "nbconvert_exporter": "python",
   "pygments_lexer": "ipython3",
   "version": "3.8.12"
  }
 },
 "nbformat": 4,
 "nbformat_minor": 5
}
