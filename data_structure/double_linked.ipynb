{
 "cells": [
  {
   "cell_type": "markdown",
   "id": "89718c05-665f-4366-95c2-508621709bdd",
   "metadata": {},
   "source": [
    "## Doubly Linked Lists\n",
    "This type of list has connections backwards and forwards through the list."
   ]
  },
  {
   "cell_type": "code",
   "execution_count": 2,
   "id": "18f515cd-719f-4538-8f9e-389b665514e4",
   "metadata": {},
   "outputs": [],
   "source": [
    "class DoubleNode:\n",
    "    def __init__(self, value):\n",
    "        self.value =  value\n",
    "        self.next = None\n",
    "        self.previous = None"
   ]
  },
  {
   "cell_type": "markdown",
   "id": "d4f6fddf-5c9b-4c18-b0b6-fcc0b430fd52",
   "metadata": {},
   "source": [
    "Now that we have backwards connections it makes sense to track the tail of the linked list as well as the head."
   ]
  },
  {
   "cell_type": "code",
   "execution_count": 3,
   "id": "0e9b0e5d-ae88-4552-81b3-850f897be14c",
   "metadata": {},
   "outputs": [],
   "source": [
    "class DoublyLinkedList:\n",
    "    def __init__(self):\n",
    "        self.head = None\n",
    "        self.tail = None\n",
    "        \n",
    "    def append(self, value):\n",
    "        if self.head is None:\n",
    "            self.head = DoubleNode(value)\n",
    "            self.tail = self.head\n",
    "            return \n",
    "        \n",
    "        self.tail.next = DoubleNode(value)\n",
    "        self.tail.next.previous = self.tail\n",
    "        self.tail = self.tail.next\n",
    "        return\n",
    "        "
   ]
  },
  {
   "cell_type": "code",
   "execution_count": 4,
   "id": "55b0b1c8-b1b6-48ff-8b01-378f974c1e5b",
   "metadata": {},
   "outputs": [],
   "source": [
    "linked_list = DoublyLinkedList()\n",
    "linked_list.append(2)\n",
    "linked_list.append(1)\n",
    "linked_list.append(4)\n",
    "linked_list.append(3)"
   ]
  },
  {
   "cell_type": "code",
   "execution_count": 5,
   "id": "3fd35396-01eb-4057-b76c-a15cc29e993d",
   "metadata": {},
   "outputs": [
    {
     "name": "stdout",
     "output_type": "stream",
     "text": [
      "Going forward through the list\n",
      "2\n",
      "1\n",
      "4\n",
      "3\n"
     ]
    }
   ],
   "source": [
    "print(\"Going forward through the list\")\n",
    "\n",
    "node = linked_list.head\n",
    "while node:\n",
    "    print(node.value)\n",
    "    node = node.next"
   ]
  },
  {
   "cell_type": "code",
   "execution_count": 6,
   "id": "b5444e5b-076a-44ab-9523-baa6e7fe3889",
   "metadata": {},
   "outputs": [
    {
     "name": "stdout",
     "output_type": "stream",
     "text": [
      "Going backward through the list\n",
      "3\n",
      "4\n",
      "1\n",
      "2\n"
     ]
    }
   ],
   "source": [
    "print(\"Going backward through the list\")\n",
    "\n",
    "node = linked_list.tail\n",
    "while node:\n",
    "    print(node.value)\n",
    "    node = node.previous"
   ]
  },
  {
   "cell_type": "code",
   "execution_count": null,
   "id": "e47da360-52ee-4036-bb94-948f18dbbb44",
   "metadata": {},
   "outputs": [],
   "source": []
  }
 ],
 "metadata": {
  "kernelspec": {
   "display_name": "Python 3 (ipykernel)",
   "language": "python",
   "name": "python3"
  },
  "language_info": {
   "codemirror_mode": {
    "name": "ipython",
    "version": 3
   },
   "file_extension": ".py",
   "mimetype": "text/x-python",
   "name": "python",
   "nbconvert_exporter": "python",
   "pygments_lexer": "ipython3",
   "version": "3.8.12"
  }
 },
 "nbformat": 4,
 "nbformat_minor": 5
}
