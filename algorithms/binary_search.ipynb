{
 "cells": [
  {
   "cell_type": "markdown",
   "id": "463cca00-6a88-43cf-9339-580b2ccff827",
   "metadata": {},
   "source": [
    "## Binary search practice\n",
    "\n",
    "Here is a reminder of how the algorithm works:\n",
    "\n",
    "1. Find the center of the list (try setting an upper and lower bound to find the center)\n",
    "2. Check to see if the element at the center is your target.\n",
    "3. If it is, return the index.\n",
    "4. If not, is the target greater or less than that element?\n",
    "5. If greater, move the lower bound to just above the current center\n",
    "6. If less, move the upper bound to just below the current center\n",
    "7. Repeat steps 1-6 until you find the target or until the bounds are the same or cross (the upper bound is less than the lower bound).\n",
    "\n",
    "**Running time: O(log n)**\n"
   ]
  },
  {
   "cell_type": "code",
   "execution_count": 1,
   "id": "9119728f-44e8-455f-a126-175156292756",
   "metadata": {},
   "outputs": [],
   "source": [
    "\"\"\"\n",
    "The binary_search function takes a sorted array and an item. If the\n",
    "item is in the array, the function returns its position.\n",
    "\"\"\"\n",
    "def binary_search(list_elements, item):\n",
    "    low = 0\n",
    "    high = len(list_elements) - 1\n",
    "\n",
    "    while (low <= high):\n",
    "        # Each time, you check the middle element\n",
    "        middle = (low + high)//2\n",
    "        guess = list_elements[middle]\n",
    "\n",
    "        # If the guess is too low, you update low\n",
    "        # And if the guess is too high, you update high\n",
    "        if (guess == item):\n",
    "            return middle\n",
    "        elif (guess > item):\n",
    "            high = middle - 1\n",
    "        else:\n",
    "            low = middle + 1\n",
    "    return None\n"
   ]
  },
  {
   "cell_type": "code",
   "execution_count": 2,
   "id": "83eb1a78-5f2c-4175-bad0-2daa0f0db789",
   "metadata": {},
   "outputs": [
    {
     "name": "stdout",
     "output_type": "stream",
     "text": [
      "index: 5\n"
     ]
    }
   ],
   "source": [
    "if __name__=='__main__':\n",
    "    my_list = [1, 2, 3, 5, 7, 10, 40]\n",
    "    print(\"index:\", binary_search(my_list, 10))\n"
   ]
  }
 ],
 "metadata": {
  "kernelspec": {
   "display_name": "Python 3 (ipykernel)",
   "language": "python",
   "name": "python3"
  },
  "language_info": {
   "codemirror_mode": {
    "name": "ipython",
    "version": 3
   },
   "file_extension": ".py",
   "mimetype": "text/x-python",
   "name": "python",
   "nbconvert_exporter": "python",
   "pygments_lexer": "ipython3",
   "version": "3.8.12"
  }
 },
 "nbformat": 4,
 "nbformat_minor": 5
}
